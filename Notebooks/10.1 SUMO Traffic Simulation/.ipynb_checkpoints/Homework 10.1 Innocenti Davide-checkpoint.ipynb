{
 "cells": [
  {
   "cell_type": "markdown",
   "id": "5b1e69e6-c168-434a-b1ba-acc3444347b2",
   "metadata": {},
   "source": [
    "## Download the road network of La Spezia (Italy) from OSMWebWizard:\n",
    "\n",
    "* Create a python function that, given a list of tuples in the form _(type, \n",
    "n_vehicles, edge_list, departure_time)_ creates an xml file describing the \n",
    "corresponding traffic demand; use the script to compute the traffic demand for \n",
    "the following points. Type can be route or flow.\n",
    "\n",
    "* Create a traffic demand of 1,000 vehicles moving through a random origin \n",
    "and destination edges. Ensure that origin and destination are connected. \n",
    "Departure time is chosen uniformly at random in [0, 600].\n",
    "\n",
    "\n",
    "* Apply duarouter to the mobility demand for w=1, 5, 10, 15, 20. Compute, for \n",
    "each value of w, the total distance traveled, the difference with respect to the \n",
    "shortest path, and the total CO2 emissions."
   ]
  },
  {
   "cell_type": "markdown",
   "id": "410f0070-cbad-443b-88de-f5ec2c9e67d6",
   "metadata": {},
   "source": [
    "# Importing La_spezia Road Network"
   ]
  },
  {
   "cell_type": "code",
   "execution_count": 2,
   "id": "0cb68fc5-02f7-4b8e-af1e-7f1e77500323",
   "metadata": {},
   "outputs": [],
   "source": [
    "import random\n",
    "import numpy as np\n",
    "import matplotlib.pyplot as plt"
   ]
  },
  {
   "cell_type": "code",
   "execution_count": 3,
   "id": "3ae9de80-34e5-4155-a5e7-63dcfbf356a0",
   "metadata": {},
   "outputs": [],
   "source": [
    "import sumolib\n",
    "\n",
    "# read the road network\n",
    "net = sumolib.net.readNet('road_network_la_spezia.net.xml')"
   ]
  },
  {
   "cell_type": "code",
   "execution_count": 4,
   "id": "2f65f959-8cd7-439b-a95f-f51ee56b0fc0",
   "metadata": {},
   "outputs": [
    {
     "data": {
      "text/plain": [
       "['-100467520', '-100467523#0', '-100467523#1', '-100467523#2', '-101081095#0']"
      ]
     },
     "execution_count": 4,
     "metadata": {},
     "output_type": "execute_result"
    }
   ],
   "source": [
    "#List of edges in the map\n",
    "edge_list = net.getEdges()\n",
    "edge_list_ids = [edge.getID() for edge in edge_list]\n",
    "\n",
    "edge_list_ids[:5]"
   ]
  },
  {
   "cell_type": "markdown",
   "id": "2e6696f9-22b6-4f3b-8e98-305718fee826",
   "metadata": {
    "tags": []
   },
   "source": [
    "# Initializing traffic_demand.rou.xml file"
   ]
  },
  {
   "cell_type": "markdown",
   "id": "2b26d53c-842e-4a00-adc7-ed40b78cda45",
   "metadata": {},
   "source": [
    "1. _Create a python function that, given a list of tuples in the form _(type, \n",
    "n_vehicles, edge_list, departure_time)_ creates an xml file describing the \n",
    "corresponding traffic demand; use the script to compute the traffic demand for \n",
    "the following points. Type can be route or flow._"
   ]
  },
  {
   "cell_type": "code",
   "execution_count": 5,
   "id": "af2d3753-3b9f-42d0-bb13-2f414e553d57",
   "metadata": {},
   "outputs": [],
   "source": [
    "#chosing random departure_time to be sorted for later on\n",
    "departure_time = sorted([int(random.uniform(0,601)) for i in range(1000)])"
   ]
  },
  {
   "cell_type": "code",
   "execution_count": 6,
   "id": "aa80e1de-4a97-4c03-8711-0c4cbcc331ec",
   "metadata": {},
   "outputs": [],
   "source": [
    "def create_traffic_xml(vtype:str, n_vheicles:int, edge_list:list, departure_time:list) -> (list, float):\n",
    "    random.seed(5)\n",
    "    departures_arrivals = []\n",
    "    shortest_path = float(0)\n",
    "    \n",
    "    # # creating generator with colours\n",
    "    # for j in range(n_vheicles):\n",
    "    #     rand_colors = [\"#\"+''.join([random.choice('ABCDEF0123456789') for i in range(6)])]\n",
    "    \n",
    "    #constructing the xml file\n",
    "    with open(\"traffic_demand_la_spezia.rou.xml\", \"w\") as f:\n",
    "        f.write('<?xml version=\"1.0\" encoding=\"UTF-8\"?> \\n\\n')\n",
    "        f.write('<routes xmlns:xsi=\"http://www.w3.org/2001/XMLSchema-instance\" xsi:noNamespaceSchemaLocation=\"http://sumo.dlr.de/xsd/routes_file.xsd\">\\n\\n')\n",
    "        f.write(f'    <vType id=\"type1\" vClass=\"{vtype}\"/> \\n\\n')\n",
    "        \n",
    "        for i in range(n_vheicles):\n",
    "            #color = None\n",
    "            departure, arrival = None, None\n",
    "            path, distance = None, None\n",
    "            while not path:\n",
    "                departure, arrival = random.sample(edge_list, 2)\n",
    "                path, distance = net.getShortestPath(departure, arrival)\n",
    "            departures_arrivals.append((departure, arrival))\n",
    "            shortest_path += distance\n",
    "            \n",
    "            departure, arrival= departure.getID(), arrival.getID()\n",
    "            f.write(f'    <flow id=\"flow_{str(i)}\" begin=\"{departure_time[i]}\" end=\"1000\" number=\"1\" from=\"{departure}\" to=\"{arrival}\" type=\"type1\" color=\"green\"></flow>\\n')\n",
    "        f.write(\"\\n\\n\")\n",
    "        f.write(\"</routes>\")\n",
    "            \n",
    "    return departures_arrivals, shortest_path"
   ]
  },
  {
   "cell_type": "markdown",
   "id": "7e16537b-c04e-4f03-93b2-caa64be1ef01",
   "metadata": {},
   "source": [
    "2. _Create a traffic demand of 1,000 vehicles moving through a random origin \n",
    "and destination edges. Ensure that origin and destination are connected. \n",
    "Departure time is chosen uniformly at random in [0, 600]._"
   ]
  },
  {
   "cell_type": "code",
   "execution_count": 7,
   "id": "109677bf-a8e0-4f28-9ea2-f994ccec0960",
   "metadata": {},
   "outputs": [],
   "source": [
    "departures_arrivals, shortest_path = create_traffic_xml(\"taxi\", 1000, edge_list, departure_time) "
   ]
  },
  {
   "cell_type": "code",
   "execution_count": 8,
   "id": "cbf4bad6-c4c9-474c-babc-8aab2169b82b",
   "metadata": {},
   "outputs": [
    {
     "data": {
      "text/plain": [
       "(<edge id=\"548391137\" from=\"5297869163\" to=\"5297869369\"/>,\n",
       " <edge id=\"102638445\" from=\"837539190\" to=\"837539159\"/>)"
      ]
     },
     "execution_count": 8,
     "metadata": {},
     "output_type": "execute_result"
    }
   ],
   "source": [
    "departures_arrivals[0]"
   ]
  },
  {
   "cell_type": "code",
   "execution_count": 9,
   "id": "b81974c1-b6fd-481f-9e87-0915cd79417b",
   "metadata": {
    "tags": []
   },
   "outputs": [
    {
     "name": "stdout",
     "output_type": "stream",
     "text": [
      "Shortest Path Distance [Kms]: 2,699.46 \n"
     ]
    }
   ],
   "source": [
    "print(f\"Shortest Path Distance [Kms]: {shortest_path/1000:,.2f} \")"
   ]
  },
  {
   "cell_type": "markdown",
   "id": "da7d461a-4f8d-4e15-8784-088b76f7d17f",
   "metadata": {},
   "source": [
    "## Transforming incomplete Routes to Routes"
   ]
  },
  {
   "cell_type": "code",
   "execution_count": 10,
   "id": "6478345c-6d40-4188-8c1f-f964ba87dc31",
   "metadata": {},
   "outputs": [],
   "source": [
    "import subprocess\n",
    "\n",
    "# prepare the command string for duarouter\n",
    "\n",
    "command_str = \"duarouter --route-files traffic_demand_la_spezia.rou.xml \"+\\\n",
    "        \" --net-file road_network_la_spezia.net.xml\"+\\\n",
    "        f\" --output-file traffic_demand_la_spezia_duarouter.rou.xml --weights.random-factor 1\""
   ]
  },
  {
   "cell_type": "code",
   "execution_count": 11,
   "id": "5378b1c7-b869-47af-9064-57d2b176b19d",
   "metadata": {},
   "outputs": [],
   "source": [
    "p = subprocess.Popen(command_str, shell=True, stdout=subprocess.PIPE, stderr=subprocess.STDOUT)"
   ]
  },
  {
   "cell_type": "code",
   "execution_count": 12,
   "id": "bf9249de-5971-4ea4-ac77-93ec7e94dcd2",
   "metadata": {},
   "outputs": [],
   "source": [
    "retval = p.wait()"
   ]
  },
  {
   "cell_type": "code",
   "execution_count": 13,
   "id": "c77c234e-5404-4b70-8394-a18d50633850",
   "metadata": {},
   "outputs": [
    {
     "name": "stdout",
     "output_type": "stream",
     "text": [
      "<Popen: returncode: 0 args: 'duarouter --route-files traffic_demand_la_spezi...>\n"
     ]
    }
   ],
   "source": [
    "print(p)"
   ]
  },
  {
   "cell_type": "markdown",
   "id": "2a0566c5-5ded-4fa1-b2bf-369f27a5f0a6",
   "metadata": {},
   "source": [
    "# TraCi"
   ]
  },
  {
   "cell_type": "code",
   "execution_count": 14,
   "id": "56f087dd-8b55-4da7-94b1-9510e56e91a5",
   "metadata": {},
   "outputs": [],
   "source": [
    "# import the traci library\n",
    "import traci\n",
    "from utils import init_traci"
   ]
  },
  {
   "cell_type": "code",
   "execution_count": 15,
   "id": "f93f8157-56ee-46c9-ac1b-411e1a8a77d7",
   "metadata": {
    "tags": []
   },
   "outputs": [],
   "source": [
    "def distance_co2Emissions() -> tuple:\n",
    "    \n",
    "    \"\"\"\n",
    "    Returning the Total amout of Co2 [mg] produced in the simulation and the relative Total Distance [m] traveled.\n",
    "    \n",
    "    The 'veichles' hashmap represent the result of every veichle at the end of the simulation, and takes the form of:\n",
    "    \n",
    "    'flow_0.0': {'co2_emissions': 346551.72927755694, 'distance': 956.4000691741918, 'time': 64},\n",
    "    'flow_1.0': {'co2_emissions': 1952854.7385415002, 'distance': 7254.69168403833, 'time': 619} \n",
    "    ..\n",
    "    'flow_16.0': {'co2_emissions': 1724971.323013863, 'distance': 6756.51903673607, 'time': 571}\n",
    "    ..\n",
    "    \"\"\"\n",
    "    \n",
    "    traci.start(['sumo', '-c', 'la_spezia.sumocfg'])\n",
    "    vehicles = dict()\n",
    "    tot_co2, tot_distance = 0, 0\n",
    "    \n",
    "    # simulate each step\n",
    "    for step in range(2500): # assuming to be above the finishing time\n",
    "        \n",
    "        # perform a simulation step\n",
    "        traci.simulationStep()\n",
    "        vehicle_list = set(traci.vehicle.getIDList())\n",
    "        \n",
    "        # value retrieval\n",
    "        if vehicle_list:\n",
    "            for v_id in vehicle_list:\n",
    "                if v_id not in vehicles:\n",
    "                    #initializing dictionary's record\n",
    "                    vehicles[v_id] = {\"co2_emissions\" : 0, \"distance\": 0, \"time\": 0} \n",
    "\n",
    "                # CO2 emissions [mg/s] \n",
    "                # adding up each co2_emissions amount for every veichle to it's reference in the dictionary\n",
    "                co2_emissions = traci.vehicle.getCO2Emission(v_id)\n",
    "                vehicles[v_id][\"co2_emissions\"] += co2_emissions\n",
    "                \n",
    "                # distance [meters]\n",
    "                partial_distance = traci.vehicle.getDistance(v_id)\n",
    "                vehicles[v_id][\"distance\"] = partial_distance\n",
    "                vehicles[v_id][\"time\"] += 1\n",
    "        \n",
    "                # print(f\"Vehicle ID: {v_id}\")\n",
    "                # print(f\"CO2 emissions [mg/s]: {co2_emissions}\\n\")\n",
    "    \n",
    "            \n",
    "    # close TraCi when the total number of steps to simulate is reached\n",
    "    time = max([vehicle[\"time\"] for vehicle in vehicles.values()])\n",
    "    for veichle in vehicles.values():\n",
    "        tot_co2 += veichle[\"co2_emissions\"]\n",
    "        tot_distance += veichle[\"distance\"]\n",
    "        \n",
    "    traci.close()\n",
    "    return tot_co2, tot_distance, time"
   ]
  },
  {
   "cell_type": "code",
   "execution_count": 18,
   "id": "61b2745b-378a-46a3-af10-8b7184ca771f",
   "metadata": {
    "tags": []
   },
   "outputs": [],
   "source": [
    "# #To run in case of Sump/Traci connection errors:\n",
    "# traci.close()\n",
    "# #if the problem persists run the function above and the traci.close() in this cell few times in different order, it will work eventually"
   ]
  },
  {
   "cell_type": "code",
   "execution_count": 16,
   "id": "2f28e2a2-f16b-4149-997e-92117486378a",
   "metadata": {},
   "outputs": [],
   "source": [
    "# help(distance_co2Emissions)"
   ]
  },
  {
   "cell_type": "code",
   "execution_count": 17,
   "id": "9dd32db0-28c2-4135-afb4-98d8270aec23",
   "metadata": {
    "tags": []
   },
   "outputs": [],
   "source": [
    "w0_co2, w0_distance, max_time = distance_co2Emissions()"
   ]
  },
  {
   "cell_type": "code",
   "execution_count": 19,
   "id": "a6e19363-efe2-458d-8d5a-de94a56742d0",
   "metadata": {},
   "outputs": [
    {
     "data": {
      "text/plain": [
       "(1214935.09, 3284.55)"
      ]
     },
     "execution_count": 19,
     "metadata": {},
     "output_type": "execute_result"
    }
   ],
   "source": [
    "round(w0_co2/1000,2), round(w0_distance/1000,2)"
   ]
  },
  {
   "cell_type": "code",
   "execution_count": 28,
   "id": "5e7b3a0a-cd4a-46bc-ba3a-e1569cb3194e",
   "metadata": {},
   "outputs": [
    {
     "data": {
      "text/plain": [
       "'Travel Time [s]: 1353'"
      ]
     },
     "execution_count": 28,
     "metadata": {},
     "output_type": "execute_result"
    }
   ],
   "source": [
    "f\"Travel Time [s]: {max_time}\""
   ]
  },
  {
   "cell_type": "markdown",
   "id": "12582861-badf-4e04-b22e-8c563f4604d2",
   "metadata": {},
   "source": [
    "# Dealing with Random Perturbation (W)"
   ]
  },
  {
   "cell_type": "markdown",
   "id": "34053f4e-386a-4038-810f-7aa21b6bc125",
   "metadata": {},
   "source": [
    "3. _Apply duarouter to the mobility demand for w=1, 5, 10, 15, 20. Compute, for \n",
    "each value of w, the total distance traveled, the difference with respect to the \n",
    "shortest path, and the total CO2 emissions._"
   ]
  },
  {
   "cell_type": "code",
   "execution_count": 21,
   "id": "98eaf371-101a-42cf-be6a-cfe22bb2f7da",
   "metadata": {},
   "outputs": [],
   "source": [
    "def duaroute_command_string(w: int) -> str:\n",
    "    res = \"duarouter --route-files traffic_demand_la_spezia.rou.xml \"+\\\n",
    "        \" --net-file road_network_la_spezia.net.xml\"+\\\n",
    "        f\" --output-file traffic_demand_la_spezia_duarouter.rou.xml --weights.random-factor {w}\"\n",
    "    return res"
   ]
  },
  {
   "cell_type": "code",
   "execution_count": 22,
   "id": "79300af7-d75c-4f94-a21d-997388dae120",
   "metadata": {
    "tags": []
   },
   "outputs": [],
   "source": [
    "def making_duaroute_xml(w: int):\n",
    "    command_str = duaroute_command_string(w)\n",
    "    p = subprocess.Popen(command_str, shell=True, stdout=subprocess.PIPE, stderr=subprocess.STDOUT)\n",
    "    retval = p.wait()"
   ]
  },
  {
   "cell_type": "code",
   "execution_count": 23,
   "id": "8390fba0-ffbd-4703-864a-b4ca416ef868",
   "metadata": {},
   "outputs": [
    {
     "data": {
      "text/plain": [
       "'duarouter --route-files traffic_demand_la_spezia.rou.xml  --net-file road_network_la_spezia.net.xml --output-file traffic_demand_la_spezia_duarouter.rou.xml --weights.random-factor 999'"
      ]
     },
     "execution_count": 23,
     "metadata": {},
     "output_type": "execute_result"
    }
   ],
   "source": [
    "duaroute_command_string(999)"
   ]
  },
  {
   "cell_type": "code",
   "execution_count": 24,
   "id": "8fe32419-04e0-4512-b5ff-6c2f7b6a81c8",
   "metadata": {
    "tags": []
   },
   "outputs": [],
   "source": [
    "from tqdm import tqdm\n",
    "# perturbations\n",
    "W = [1] + list(range(5,21,5))"
   ]
  },
  {
   "cell_type": "code",
   "execution_count": 25,
   "id": "24c25713-0e20-4e04-9c0c-5bde0620e0bf",
   "metadata": {
    "tags": []
   },
   "outputs": [
    {
     "name": "stderr",
     "output_type": "stream",
     "text": [
      "100%|███████████████████████████████████████████████████████████████████████████████████| 4/4 [08:20<00:00, 125.05s/it]\n"
     ]
    }
   ],
   "source": [
    "# (it takes a while)\n",
    "output = [(w0_co2, w0_distance, max_time)]\n",
    "for i in tqdm(range(1, len(W))):\n",
    "    making_duaroute_xml(W[i])\n",
    "    output.append(distance_co2Emissions())"
   ]
  },
  {
   "cell_type": "code",
   "execution_count": 26,
   "id": "3b6fe172-4f52-43ba-9dfc-7332c94b3b54",
   "metadata": {},
   "outputs": [
    {
     "name": "stdout",
     "output_type": "stream",
     "text": [
      "Shortest Path Distance [Kms]: 2,699.46 \n",
      "Weight:   1  -  Total Distance [Kms]: 3,284.55  \t  Total Co2 emitted [mg]: 1_214_935_085.61  \t  Travel Time [s]: 1353\n",
      "Weight:   5  -  Total Distance [Kms]: 3,332.99  \t  Total Co2 emitted [mg]: 1_310_368_016.84  \t  Travel Time [s]: 1884\n",
      "Weight:  10  -  Total Distance [Kms]: 3,353.65  \t  Total Co2 emitted [mg]: 1_380_202_380.58  \t  Travel Time [s]: 2003\n",
      "Weight:  15  -  Total Distance [Kms]: 3,307.51  \t  Total Co2 emitted [mg]: 1_655_542_687.21  \t  Travel Time [s]: 2282\n",
      "Weight:  20  -  Total Distance [Kms]: 3,375.53  \t  Total Co2 emitted [mg]: 1_455_139_087.36  \t  Travel Time [s]: 1572\n"
     ]
    }
   ],
   "source": [
    "output = [(round(co2,2), round(distance,2), time_units) for co2,distance,time_units in output]\n",
    "\n",
    "print(f\"Shortest Path Distance [Kms]: {shortest_path/1000:,.2f} \")\n",
    "for i in range(len(output)):\n",
    "    print(f\"Weight: {W[i]:>3}  -  Total Distance [Kms]: {output[i][1]/1000:,.2f}  \\t  Total Co2 emitted [mg]: {output[i][0]:_.2f}  \\t  \" + \\\n",
    "         f\"Travel Time [s]: {output[i][2]}\")"
   ]
  },
  {
   "cell_type": "code",
   "execution_count": 27,
   "id": "c470baa7-10dd-4dce-bf96-b7551b8681ab",
   "metadata": {},
   "outputs": [
    {
     "data": {
      "image/png": "[encoded data removed]",
      "text/plain": [
       "<Figure size 640x480 with 1 Axes>"
      ]
     },
     "metadata": {},
     "output_type": "display_data"
    },
    {
     "data": {
      "image/png": "[encoded data removed]",
      "text/plain": [
       "<Figure size 640x480 with 1 Axes>"
      ]
     },
     "metadata": {},
     "output_type": "display_data"
    }
   ],
   "source": [
    "ax = plt.subplot()\n",
    "plt.plot(W,[distance for _,distance,_ in output], \n",
    "         marker= \"o\", alpha=0.8, markeredgecolor=\"black\", linestyle=\"--\")\n",
    "plt.xlabel(\"Perturbation Measure\")\n",
    "plt.ylabel(\"Kms\")\n",
    "plt.ticklabel_format(axis='y', style='sci', scilimits=(0,0))\n",
    "plt.title(\"Perturbation Affecting traveled Distance\", size=12)\n",
    "plt.show()\n",
    "\n",
    "ax = plt.subplot()\n",
    "plt.plot(W,[co2 for co2,_,_ in output], \n",
    "         marker= \"o\", alpha=0.8, markeredgecolor=\"black\", linestyle=\"--\", color=\"orange\")\n",
    "plt.xlabel(\"Perturbation Measure\")\n",
    "plt.ylabel(\"Co2_emitted\")\n",
    "plt.ticklabel_format(axis='y', style='sci', scilimits=(0,0))\n",
    "plt.title(\"Perturbation Affecting CO2 emissions\", size=12)\n",
    "plt.show()"
   ]
  },
  {
   "cell_type": "code",
   "execution_count": null,
   "id": "ad952cfb-997a-45d6-92e4-2ba88452a940",
   "metadata": {},
   "outputs": [],
   "source": []
  }
 ],
 "metadata": {
  "kernelspec": {
   "display_name": "Python [conda env: skmob]",
   "language": "python",
   "name": "skmob"
  },
  "language_info": {
   "codemirror_mode": {
    "name": "ipython",
    "version": 3
   },
   "file_extension": ".py",
   "mimetype": "text/x-python",
   "name": "python",
   "nbconvert_exporter": "python",
   "pygments_lexer": "ipython3",
   "version": "3.9.13"
  }
 },
 "nbformat": 4,
 "nbformat_minor": 5
}
