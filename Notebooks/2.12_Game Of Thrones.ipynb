{
 "cells": [
  {
   "cell_type": "markdown",
   "metadata": {
    "id": "JuerYKJ4bqJ3"
   },
   "source": [
    "### Download the geojson files describing the world of “A Game of Thrones” from this repository. Plot the places mentioned in three\n",
    "\n",
    "\n",
    "*   Create some GeoDataFrames to store info and geometries \n",
    "of\n",
    "continents, islands, lakes, rivers, roads, the Wall, and the locations.\n",
    "*    Plot them using geopandas\n",
    "*    Select 3 chapters from here, and visualize all places mentioned in\n",
    "the chapters that are present in the locations GeoDataFrame.\n",
    "*    Plot each chapter’s points differently and make a legend with the\n",
    "Chapter number and title.\n"
   ]
  },
  {
   "cell_type": "code",
   "execution_count": null,
   "metadata": {
    "id": "reYV2VFdBln9"
   },
   "outputs": [],
   "source": [
    "#!pip install geopandas"
   ]
  },
  {
   "cell_type": "code",
   "execution_count": 217,
   "metadata": {
    "id": "z-_zrBlO4d7s"
   },
   "outputs": [],
   "source": [
    "import geopandas as gpd\n",
    "import pandas as pd\n",
    "import matplotlib.pyplot as plt"
   ]
  },
  {
   "cell_type": "markdown",
   "metadata": {
    "id": "a0CtwVmyQGXh"
   },
   "source": [
    "# Continents"
   ]
  },
  {
   "cell_type": "code",
   "execution_count": 218,
   "metadata": {
    "colab": {
     "base_uri": "https://localhost:8080/",
     "height": 143
    },
    "id": "qiGvL5foCMVU",
    "outputId": "7520306c-542e-470f-d098-be638469e6d7"
   },
   "outputs": [
    {
     "data": {
      "text/html": [
       "\n",
       "  <div id=\"df-7a166f90-9ab4-413f-ae05-c6f6aaa67b3f\">\n",
       "    <div class=\"colab-df-container\">\n",
       "      <div>\n",
       "<style scoped>\n",
       "    .dataframe tbody tr th:only-of-type {\n",
       "        vertical-align: middle;\n",
       "    }\n",
       "\n",
       "    .dataframe tbody tr th {\n",
       "        vertical-align: top;\n",
       "    }\n",
       "\n",
       "    .dataframe thead th {\n",
       "        text-align: right;\n",
       "    }\n",
       "</style>\n",
       "<table border=\"1\" class=\"dataframe\">\n",
       "  <thead>\n",
       "    <tr style=\"text-align: right;\">\n",
       "      <th></th>\n",
       "      <th>id</th>\n",
       "      <th>name</th>\n",
       "      <th>geometry</th>\n",
       "    </tr>\n",
       "  </thead>\n",
       "  <tbody>\n",
       "    <tr>\n",
       "      <th>0</th>\n",
       "      <td>1</td>\n",
       "      <td>Westeros</td>\n",
       "      <td>POLYGON ((16.40672 39.47535, 16.46089 39.45401...</td>\n",
       "    </tr>\n",
       "    <tr>\n",
       "      <th>1</th>\n",
       "      <td>2</td>\n",
       "      <td>Essos</td>\n",
       "      <td>POLYGON ((66.37511 -11.04801, 66.53436 -10.941...</td>\n",
       "    </tr>\n",
       "    <tr>\n",
       "      <th>2</th>\n",
       "      <td>3</td>\n",
       "      <td>Sothoryos</td>\n",
       "      <td>POLYGON ((53.52212 -41.81379, 53.57351 -41.659...</td>\n",
       "    </tr>\n",
       "  </tbody>\n",
       "</table>\n",
       "</div>\n",
       "      <button class=\"colab-df-convert\" onclick=\"convertToInteractive('df-7a166f90-9ab4-413f-ae05-c6f6aaa67b3f')\"\n",
       "              title=\"Convert this dataframe to an interactive table.\"\n",
       "              style=\"display:none;\">\n",
       "        \n",
       "  <svg xmlns=\"http://www.w3.org/2000/svg\" height=\"24px\"viewBox=\"0 0 24 24\"\n",
       "       width=\"24px\">\n",
       "    <path d=\"M0 0h24v24H0V0z\" fill=\"none\"/>\n",
       "    <path d=\"M18.56 5.44l.94 2.06.94-2.06 2.06-.94-2.06-.94-.94-2.06-.94 2.06-2.06.94zm-11 1L8.5 8.5l.94-2.06 2.06-.94-2.06-.94L8.5 2.5l-.94 2.06-2.06.94zm10 10l.94 2.06.94-2.06 2.06-.94-2.06-.94-.94-2.06-.94 2.06-2.06.94z\"/><path d=\"M17.41 7.96l-1.37-1.37c-.4-.4-.92-.59-1.43-.59-.52 0-1.04.2-1.43.59L10.3 9.45l-7.72 7.72c-.78.78-.78 2.05 0 2.83L4 21.41c.39.39.9.59 1.41.59.51 0 1.02-.2 1.41-.59l7.78-7.78 2.81-2.81c.8-.78.8-2.07 0-2.86zM5.41 20L4 18.59l7.72-7.72 1.47 1.35L5.41 20z\"/>\n",
       "  </svg>\n",
       "      </button>\n",
       "      \n",
       "  <style>\n",
       "    .colab-df-container {\n",
       "      display:flex;\n",
       "      flex-wrap:wrap;\n",
       "      gap: 12px;\n",
       "    }\n",
       "\n",
       "    .colab-df-convert {\n",
       "      background-color: #E8F0FE;\n",
       "      border: none;\n",
       "      border-radius: 50%;\n",
       "      cursor: pointer;\n",
       "      display: none;\n",
       "      fill: #1967D2;\n",
       "      height: 32px;\n",
       "      padding: 0 0 0 0;\n",
       "      width: 32px;\n",
       "    }\n",
       "\n",
       "    .colab-df-convert:hover {\n",
       "      background-color: #E2EBFA;\n",
       "      box-shadow: 0px 1px 2px rgba(60, 64, 67, 0.3), 0px 1px 3px 1px rgba(60, 64, 67, 0.15);\n",
       "      fill: #174EA6;\n",
       "    }\n",
       "\n",
       "    [theme=dark] .colab-df-convert {\n",
       "      background-color: #3B4455;\n",
       "      fill: #D2E3FC;\n",
       "    }\n",
       "\n",
       "    [theme=dark] .colab-df-convert:hover {\n",
       "      background-color: #434B5C;\n",
       "      box-shadow: 0px 1px 3px 1px rgba(0, 0, 0, 0.15);\n",
       "      filter: drop-shadow(0px 1px 2px rgba(0, 0, 0, 0.3));\n",
       "      fill: #FFFFFF;\n",
       "    }\n",
       "  </style>\n",
       "\n",
       "      <script>\n",
       "        const buttonEl =\n",
       "          document.querySelector('#df-7a166f90-9ab4-413f-ae05-c6f6aaa67b3f button.colab-df-convert');\n",
       "        buttonEl.style.display =\n",
       "          google.colab.kernel.accessAllowed ? 'block' : 'none';\n",
       "\n",
       "        async function convertToInteractive(key) {\n",
       "          const element = document.querySelector('#df-7a166f90-9ab4-413f-ae05-c6f6aaa67b3f');\n",
       "          const dataTable =\n",
       "            await google.colab.kernel.invokeFunction('convertToInteractive',\n",
       "                                                     [key], {});\n",
       "          if (!dataTable) return;\n",
       "\n",
       "          const docLinkHtml = 'Like what you see? Visit the ' +\n",
       "            '<a target=\"_blank\" href=https://colab.research.google.com/notebooks/data_table.ipynb>data table notebook</a>'\n",
       "            + ' to learn more about interactive tables.';\n",
       "          element.innerHTML = '';\n",
       "          dataTable['output_type'] = 'display_data';\n",
       "          await google.colab.output.renderOutput(dataTable, element);\n",
       "          const docLink = document.createElement('div');\n",
       "          docLink.innerHTML = docLinkHtml;\n",
       "          element.appendChild(docLink);\n",
       "        }\n",
       "      </script>\n",
       "    </div>\n",
       "  </div>\n",
       "  "
      ],
      "text/plain": [
       "   id       name                                           geometry\n",
       "0   1   Westeros  POLYGON ((16.40672 39.47535, 16.46089 39.45401...\n",
       "1   2      Essos  POLYGON ((66.37511 -11.04801, 66.53436 -10.941...\n",
       "2   3  Sothoryos  POLYGON ((53.52212 -41.81379, 53.57351 -41.659..."
      ]
     },
     "execution_count": 218,
     "metadata": {},
     "output_type": "execute_result"
    }
   ],
   "source": [
    "continents = gpd.read_file(\"got_continents.geojson\")\n",
    "continents"
   ]
  },
  {
   "cell_type": "code",
   "execution_count": 219,
   "metadata": {
    "colab": {
     "base_uri": "https://localhost:8080/",
     "height": 301
    },
    "id": "z_vyF5rLCiIg",
    "outputId": "d47e2f50-f3ed-4b2e-e1b5-4b1f0f8eddce"
   },
   "outputs": [
    {
     "name": "stdout",
     "output_type": "stream",
     "text": [
      "['Westeros' 'Essos' 'Sothoryos']\n"
     ]
    },
    {
     "data": {
      "text/plain": [
       "<matplotlib.axes._subplots.AxesSubplot at 0x7f6466699350>"
      ]
     },
     "execution_count": 219,
     "metadata": {},
     "output_type": "execute_result"
    },
    {
     "data": {
      "image/png": "[encoded data removed]",
      "text/plain": [
       "<Figure size 432x288 with 1 Axes>"
      ]
     },
     "metadata": {
      "needs_background": "light"
     },
     "output_type": "display_data"
    }
   ],
   "source": [
    "lista_continenti = continents[\"name\"].values\n",
    "print(lista_continenti)\n",
    "continents.plot(cmap = \"Accent\", legend=True)"
   ]
  },
  {
   "cell_type": "markdown",
   "metadata": {
    "id": "DjvTFxClQEMG"
   },
   "source": [
    "# Islands"
   ]
  },
  {
   "cell_type": "code",
   "execution_count": 220,
   "metadata": {
    "colab": {
     "base_uri": "https://localhost:8080/",
     "height": 284
    },
    "id": "MU7ghfHeCqvs",
    "outputId": "8dfee0bc-321b-41e7-d9c1-c7206de600b9"
   },
   "outputs": [
    {
     "data": {
      "text/plain": [
       "<matplotlib.axes._subplots.AxesSubplot at 0x7f64673a05d0>"
      ]
     },
     "execution_count": 220,
     "metadata": {},
     "output_type": "execute_result"
    },
    {
     "data": {
      "image/png": "[encoded data removed]",
      "text/plain": [
       "<Figure size 432x288 with 1 Axes>"
      ]
     },
     "metadata": {
      "needs_background": "light"
     },
     "output_type": "display_data"
    }
   ],
   "source": [
    "islands = gpd.read_file(\"got_islands.geojson\")\n",
    "islands. plot()"
   ]
  },
  {
   "cell_type": "code",
   "execution_count": 221,
   "metadata": {
    "colab": {
     "base_uri": "https://localhost:8080/",
     "height": 206
    },
    "id": "Ke2eTxBDQPtK",
    "outputId": "06f4afad-a252-4134-f81f-8fe62578828a"
   },
   "outputs": [
    {
     "data": {
      "text/html": [
       "\n",
       "  <div id=\"df-218a28dc-2821-47dd-a85a-9dc4af863a61\">\n",
       "    <div class=\"colab-df-container\">\n",
       "      <div>\n",
       "<style scoped>\n",
       "    .dataframe tbody tr th:only-of-type {\n",
       "        vertical-align: middle;\n",
       "    }\n",
       "\n",
       "    .dataframe tbody tr th {\n",
       "        vertical-align: top;\n",
       "    }\n",
       "\n",
       "    .dataframe thead th {\n",
       "        text-align: right;\n",
       "    }\n",
       "</style>\n",
       "<table border=\"1\" class=\"dataframe\">\n",
       "  <thead>\n",
       "    <tr style=\"text-align: right;\">\n",
       "      <th></th>\n",
       "      <th>id</th>\n",
       "      <th>name</th>\n",
       "      <th>continent</th>\n",
       "      <th>geometry</th>\n",
       "    </tr>\n",
       "  </thead>\n",
       "  <tbody>\n",
       "    <tr>\n",
       "      <th>0</th>\n",
       "      <td>1</td>\n",
       "      <td>Bear Island</td>\n",
       "      <td>Westeros</td>\n",
       "      <td>POLYGON ((10.68420 31.52314, 10.55847 31.61394...</td>\n",
       "    </tr>\n",
       "    <tr>\n",
       "      <th>1</th>\n",
       "      <td>2</td>\n",
       "      <td>Skagos</td>\n",
       "      <td>Westeros</td>\n",
       "      <td>POLYGON ((24.04649 32.85727, 23.89282 33.05285...</td>\n",
       "    </tr>\n",
       "    <tr>\n",
       "      <th>2</th>\n",
       "      <td>3</td>\n",
       "      <td>None</td>\n",
       "      <td>Westeros</td>\n",
       "      <td>POLYGON ((25.41555 34.26126, 25.47143 34.21935...</td>\n",
       "    </tr>\n",
       "    <tr>\n",
       "      <th>3</th>\n",
       "      <td>4</td>\n",
       "      <td>None</td>\n",
       "      <td>Westeros</td>\n",
       "      <td>POLYGON ((25.74035 34.59304, 25.59716 34.63844...</td>\n",
       "    </tr>\n",
       "    <tr>\n",
       "      <th>4</th>\n",
       "      <td>5</td>\n",
       "      <td>Skane</td>\n",
       "      <td>Westeros</td>\n",
       "      <td>POLYGON ((23.00573 36.62568, 23.12447 36.43010...</td>\n",
       "    </tr>\n",
       "  </tbody>\n",
       "</table>\n",
       "</div>\n",
       "      <button class=\"colab-df-convert\" onclick=\"convertToInteractive('df-218a28dc-2821-47dd-a85a-9dc4af863a61')\"\n",
       "              title=\"Convert this dataframe to an interactive table.\"\n",
       "              style=\"display:none;\">\n",
       "        \n",
       "  <svg xmlns=\"http://www.w3.org/2000/svg\" height=\"24px\"viewBox=\"0 0 24 24\"\n",
       "       width=\"24px\">\n",
       "    <path d=\"M0 0h24v24H0V0z\" fill=\"none\"/>\n",
       "    <path d=\"M18.56 5.44l.94 2.06.94-2.06 2.06-.94-2.06-.94-.94-2.06-.94 2.06-2.06.94zm-11 1L8.5 8.5l.94-2.06 2.06-.94-2.06-.94L8.5 2.5l-.94 2.06-2.06.94zm10 10l.94 2.06.94-2.06 2.06-.94-2.06-.94-.94-2.06-.94 2.06-2.06.94z\"/><path d=\"M17.41 7.96l-1.37-1.37c-.4-.4-.92-.59-1.43-.59-.52 0-1.04.2-1.43.59L10.3 9.45l-7.72 7.72c-.78.78-.78 2.05 0 2.83L4 21.41c.39.39.9.59 1.41.59.51 0 1.02-.2 1.41-.59l7.78-7.78 2.81-2.81c.8-.78.8-2.07 0-2.86zM5.41 20L4 18.59l7.72-7.72 1.47 1.35L5.41 20z\"/>\n",
       "  </svg>\n",
       "      </button>\n",
       "      \n",
       "  <style>\n",
       "    .colab-df-container {\n",
       "      display:flex;\n",
       "      flex-wrap:wrap;\n",
       "      gap: 12px;\n",
       "    }\n",
       "\n",
       "    .colab-df-convert {\n",
       "      background-color: #E8F0FE;\n",
       "      border: none;\n",
       "      border-radius: 50%;\n",
       "      cursor: pointer;\n",
       "      display: none;\n",
       "      fill: #1967D2;\n",
       "      height: 32px;\n",
       "      padding: 0 0 0 0;\n",
       "      width: 32px;\n",
       "    }\n",
       "\n",
       "    .colab-df-convert:hover {\n",
       "      background-color: #E2EBFA;\n",
       "      box-shadow: 0px 1px 2px rgba(60, 64, 67, 0.3), 0px 1px 3px 1px rgba(60, 64, 67, 0.15);\n",
       "      fill: #174EA6;\n",
       "    }\n",
       "\n",
       "    [theme=dark] .colab-df-convert {\n",
       "      background-color: #3B4455;\n",
       "      fill: #D2E3FC;\n",
       "    }\n",
       "\n",
       "    [theme=dark] .colab-df-convert:hover {\n",
       "      background-color: #434B5C;\n",
       "      box-shadow: 0px 1px 3px 1px rgba(0, 0, 0, 0.15);\n",
       "      filter: drop-shadow(0px 1px 2px rgba(0, 0, 0, 0.3));\n",
       "      fill: #FFFFFF;\n",
       "    }\n",
       "  </style>\n",
       "\n",
       "      <script>\n",
       "        const buttonEl =\n",
       "          document.querySelector('#df-218a28dc-2821-47dd-a85a-9dc4af863a61 button.colab-df-convert');\n",
       "        buttonEl.style.display =\n",
       "          google.colab.kernel.accessAllowed ? 'block' : 'none';\n",
       "\n",
       "        async function convertToInteractive(key) {\n",
       "          const element = document.querySelector('#df-218a28dc-2821-47dd-a85a-9dc4af863a61');\n",
       "          const dataTable =\n",
       "            await google.colab.kernel.invokeFunction('convertToInteractive',\n",
       "                                                     [key], {});\n",
       "          if (!dataTable) return;\n",
       "\n",
       "          const docLinkHtml = 'Like what you see? Visit the ' +\n",
       "            '<a target=\"_blank\" href=https://colab.research.google.com/notebooks/data_table.ipynb>data table notebook</a>'\n",
       "            + ' to learn more about interactive tables.';\n",
       "          element.innerHTML = '';\n",
       "          dataTable['output_type'] = 'display_data';\n",
       "          await google.colab.output.renderOutput(dataTable, element);\n",
       "          const docLink = document.createElement('div');\n",
       "          docLink.innerHTML = docLinkHtml;\n",
       "          element.appendChild(docLink);\n",
       "        }\n",
       "      </script>\n",
       "    </div>\n",
       "  </div>\n",
       "  "
      ],
      "text/plain": [
       "   id         name continent  \\\n",
       "0   1  Bear Island  Westeros   \n",
       "1   2       Skagos  Westeros   \n",
       "2   3         None  Westeros   \n",
       "3   4         None  Westeros   \n",
       "4   5        Skane  Westeros   \n",
       "\n",
       "                                            geometry  \n",
       "0  POLYGON ((10.68420 31.52314, 10.55847 31.61394...  \n",
       "1  POLYGON ((24.04649 32.85727, 23.89282 33.05285...  \n",
       "2  POLYGON ((25.41555 34.26126, 25.47143 34.21935...  \n",
       "3  POLYGON ((25.74035 34.59304, 25.59716 34.63844...  \n",
       "4  POLYGON ((23.00573 36.62568, 23.12447 36.43010...  "
      ]
     },
     "execution_count": 221,
     "metadata": {},
     "output_type": "execute_result"
    }
   ],
   "source": [
    "islands.head()"
   ]
  },
  {
   "cell_type": "markdown",
   "metadata": {
    "id": "2ON_T2cmQNyi"
   },
   "source": [
    "# Lakes"
   ]
  },
  {
   "cell_type": "code",
   "execution_count": 222,
   "metadata": {
    "colab": {
     "base_uri": "https://localhost:8080/",
     "height": 283
    },
    "id": "na_9P4abESE0",
    "outputId": "5e348d23-65a0-4e8a-d4f2-342fff14e985"
   },
   "outputs": [
    {
     "data": {
      "text/plain": [
       "<matplotlib.axes._subplots.AxesSubplot at 0x7f6466de9ed0>"
      ]
     },
     "execution_count": 222,
     "metadata": {},
     "output_type": "execute_result"
    },
    {
     "data": {
      "image/png": "[encoded data removed]",
      "text/plain": [
       "<Figure size 432x288 with 1 Axes>"
      ]
     },
     "metadata": {
      "needs_background": "light"
     },
     "output_type": "display_data"
    }
   ],
   "source": [
    "lakes = gpd.read_file(\"got_lakes.geojson\")\n",
    "lakes.plot()"
   ]
  },
  {
   "cell_type": "code",
   "execution_count": 223,
   "metadata": {
    "colab": {
     "base_uri": "https://localhost:8080/",
     "height": 206
    },
    "id": "Ra9pmKK17-Oq",
    "outputId": "c05e9109-c87d-4852-b3d6-363fd6443c2d"
   },
   "outputs": [
    {
     "data": {
      "text/html": [
       "\n",
       "  <div id=\"df-de054654-0e4a-4329-8b80-9315b396b1e4\">\n",
       "    <div class=\"colab-df-container\">\n",
       "      <div>\n",
       "<style scoped>\n",
       "    .dataframe tbody tr th:only-of-type {\n",
       "        vertical-align: middle;\n",
       "    }\n",
       "\n",
       "    .dataframe tbody tr th {\n",
       "        vertical-align: top;\n",
       "    }\n",
       "\n",
       "    .dataframe thead th {\n",
       "        text-align: right;\n",
       "    }\n",
       "</style>\n",
       "<table border=\"1\" class=\"dataframe\">\n",
       "  <thead>\n",
       "    <tr style=\"text-align: right;\">\n",
       "      <th></th>\n",
       "      <th>id</th>\n",
       "      <th>name</th>\n",
       "      <th>continent</th>\n",
       "      <th>geometry</th>\n",
       "    </tr>\n",
       "  </thead>\n",
       "  <tbody>\n",
       "    <tr>\n",
       "      <th>0</th>\n",
       "      <td>1</td>\n",
       "      <td>God's Eye</td>\n",
       "      <td>Westeros</td>\n",
       "      <td>POLYGON ((16.72945 8.23509, 17.05076 8.23858, ...</td>\n",
       "    </tr>\n",
       "    <tr>\n",
       "      <th>1</th>\n",
       "      <td>2</td>\n",
       "      <td>Red Lake</td>\n",
       "      <td>Westeros</td>\n",
       "      <td>POLYGON ((8.36492 1.36186, 8.43935 1.40230, 8....</td>\n",
       "    </tr>\n",
       "    <tr>\n",
       "      <th>2</th>\n",
       "      <td>3</td>\n",
       "      <td>None</td>\n",
       "      <td>Westeros</td>\n",
       "      <td>POLYGON ((11.34163 23.91097, 11.34402 24.01419...</td>\n",
       "    </tr>\n",
       "    <tr>\n",
       "      <th>3</th>\n",
       "      <td>4</td>\n",
       "      <td>None</td>\n",
       "      <td>Westeros</td>\n",
       "      <td>POLYGON ((9.52530 23.86578, 9.47553 23.91989, ...</td>\n",
       "    </tr>\n",
       "    <tr>\n",
       "      <th>4</th>\n",
       "      <td>5</td>\n",
       "      <td>None</td>\n",
       "      <td>Westeros</td>\n",
       "      <td>POLYGON ((9.64233 25.10433, 9.56634 25.17370, ...</td>\n",
       "    </tr>\n",
       "  </tbody>\n",
       "</table>\n",
       "</div>\n",
       "      <button class=\"colab-df-convert\" onclick=\"convertToInteractive('df-de054654-0e4a-4329-8b80-9315b396b1e4')\"\n",
       "              title=\"Convert this dataframe to an interactive table.\"\n",
       "              style=\"display:none;\">\n",
       "        \n",
       "  <svg xmlns=\"http://www.w3.org/2000/svg\" height=\"24px\"viewBox=\"0 0 24 24\"\n",
       "       width=\"24px\">\n",
       "    <path d=\"M0 0h24v24H0V0z\" fill=\"none\"/>\n",
       "    <path d=\"M18.56 5.44l.94 2.06.94-2.06 2.06-.94-2.06-.94-.94-2.06-.94 2.06-2.06.94zm-11 1L8.5 8.5l.94-2.06 2.06-.94-2.06-.94L8.5 2.5l-.94 2.06-2.06.94zm10 10l.94 2.06.94-2.06 2.06-.94-2.06-.94-.94-2.06-.94 2.06-2.06.94z\"/><path d=\"M17.41 7.96l-1.37-1.37c-.4-.4-.92-.59-1.43-.59-.52 0-1.04.2-1.43.59L10.3 9.45l-7.72 7.72c-.78.78-.78 2.05 0 2.83L4 21.41c.39.39.9.59 1.41.59.51 0 1.02-.2 1.41-.59l7.78-7.78 2.81-2.81c.8-.78.8-2.07 0-2.86zM5.41 20L4 18.59l7.72-7.72 1.47 1.35L5.41 20z\"/>\n",
       "  </svg>\n",
       "      </button>\n",
       "      \n",
       "  <style>\n",
       "    .colab-df-container {\n",
       "      display:flex;\n",
       "      flex-wrap:wrap;\n",
       "      gap: 12px;\n",
       "    }\n",
       "\n",
       "    .colab-df-convert {\n",
       "      background-color: #E8F0FE;\n",
       "      border: none;\n",
       "      border-radius: 50%;\n",
       "      cursor: pointer;\n",
       "      display: none;\n",
       "      fill: #1967D2;\n",
       "      height: 32px;\n",
       "      padding: 0 0 0 0;\n",
       "      width: 32px;\n",
       "    }\n",
       "\n",
       "    .colab-df-convert:hover {\n",
       "      background-color: #E2EBFA;\n",
       "      box-shadow: 0px 1px 2px rgba(60, 64, 67, 0.3), 0px 1px 3px 1px rgba(60, 64, 67, 0.15);\n",
       "      fill: #174EA6;\n",
       "    }\n",
       "\n",
       "    [theme=dark] .colab-df-convert {\n",
       "      background-color: #3B4455;\n",
       "      fill: #D2E3FC;\n",
       "    }\n",
       "\n",
       "    [theme=dark] .colab-df-convert:hover {\n",
       "      background-color: #434B5C;\n",
       "      box-shadow: 0px 1px 3px 1px rgba(0, 0, 0, 0.15);\n",
       "      filter: drop-shadow(0px 1px 2px rgba(0, 0, 0, 0.3));\n",
       "      fill: #FFFFFF;\n",
       "    }\n",
       "  </style>\n",
       "\n",
       "      <script>\n",
       "        const buttonEl =\n",
       "          document.querySelector('#df-de054654-0e4a-4329-8b80-9315b396b1e4 button.colab-df-convert');\n",
       "        buttonEl.style.display =\n",
       "          google.colab.kernel.accessAllowed ? 'block' : 'none';\n",
       "\n",
       "        async function convertToInteractive(key) {\n",
       "          const element = document.querySelector('#df-de054654-0e4a-4329-8b80-9315b396b1e4');\n",
       "          const dataTable =\n",
       "            await google.colab.kernel.invokeFunction('convertToInteractive',\n",
       "                                                     [key], {});\n",
       "          if (!dataTable) return;\n",
       "\n",
       "          const docLinkHtml = 'Like what you see? Visit the ' +\n",
       "            '<a target=\"_blank\" href=https://colab.research.google.com/notebooks/data_table.ipynb>data table notebook</a>'\n",
       "            + ' to learn more about interactive tables.';\n",
       "          element.innerHTML = '';\n",
       "          dataTable['output_type'] = 'display_data';\n",
       "          await google.colab.output.renderOutput(dataTable, element);\n",
       "          const docLink = document.createElement('div');\n",
       "          docLink.innerHTML = docLinkHtml;\n",
       "          element.appendChild(docLink);\n",
       "        }\n",
       "      </script>\n",
       "    </div>\n",
       "  </div>\n",
       "  "
      ],
      "text/plain": [
       "   id       name continent                                           geometry\n",
       "0   1  God's Eye  Westeros  POLYGON ((16.72945 8.23509, 17.05076 8.23858, ...\n",
       "1   2   Red Lake  Westeros  POLYGON ((8.36492 1.36186, 8.43935 1.40230, 8....\n",
       "2   3       None  Westeros  POLYGON ((11.34163 23.91097, 11.34402 24.01419...\n",
       "3   4       None  Westeros  POLYGON ((9.52530 23.86578, 9.47553 23.91989, ...\n",
       "4   5       None  Westeros  POLYGON ((9.64233 25.10433, 9.56634 25.17370, ..."
      ]
     },
     "execution_count": 223,
     "metadata": {},
     "output_type": "execute_result"
    }
   ],
   "source": [
    "lakes.head()"
   ]
  },
  {
   "cell_type": "markdown",
   "metadata": {
    "id": "GmDbSVrlP-v5"
   },
   "source": [
    "# Rivers"
   ]
  },
  {
   "cell_type": "code",
   "execution_count": 224,
   "metadata": {
    "colab": {
     "base_uri": "https://localhost:8080/",
     "height": 283
    },
    "id": "qofUTROGEjtK",
    "outputId": "12f7218e-dd28-45f2-98f6-d72b42c190be"
   },
   "outputs": [
    {
     "data": {
      "text/plain": [
       "<matplotlib.axes._subplots.AxesSubplot at 0x7f6466612790>"
      ]
     },
     "execution_count": 224,
     "metadata": {},
     "output_type": "execute_result"
    },
    {
     "data": {
      "image/png": "[encoded data removed]",
      "text/plain": [
       "<Figure size 432x288 with 1 Axes>"
      ]
     },
     "metadata": {
      "needs_background": "light"
     },
     "output_type": "display_data"
    }
   ],
   "source": [
    "rivers = gpd.read_file(\"got_rivers.geojson\")\n",
    "rivers.plot()"
   ]
  },
  {
   "cell_type": "code",
   "execution_count": 225,
   "metadata": {
    "colab": {
     "base_uri": "https://localhost:8080/",
     "height": 206
    },
    "id": "X1Hoj75SPxie",
    "outputId": "78d2449f-cf80-47a4-f115-f267535a85b1"
   },
   "outputs": [
    {
     "data": {
      "text/html": [
       "\n",
       "  <div id=\"df-b8475278-b38c-435c-a6b2-c9e41ee08d25\">\n",
       "    <div class=\"colab-df-container\">\n",
       "      <div>\n",
       "<style scoped>\n",
       "    .dataframe tbody tr th:only-of-type {\n",
       "        vertical-align: middle;\n",
       "    }\n",
       "\n",
       "    .dataframe tbody tr th {\n",
       "        vertical-align: top;\n",
       "    }\n",
       "\n",
       "    .dataframe thead th {\n",
       "        text-align: right;\n",
       "    }\n",
       "</style>\n",
       "<table border=\"1\" class=\"dataframe\">\n",
       "  <thead>\n",
       "    <tr style=\"text-align: right;\">\n",
       "      <th></th>\n",
       "      <th>id</th>\n",
       "      <th>name</th>\n",
       "      <th>size</th>\n",
       "      <th>continent</th>\n",
       "      <th>geometry</th>\n",
       "    </tr>\n",
       "  </thead>\n",
       "  <tbody>\n",
       "    <tr>\n",
       "      <th>0</th>\n",
       "      <td>1</td>\n",
       "      <td>Blackwater Rush</td>\n",
       "      <td>2.0</td>\n",
       "      <td>Westeros</td>\n",
       "      <td>MULTILINESTRING ((13.46074 6.13880, 13.62488 6...</td>\n",
       "    </tr>\n",
       "    <tr>\n",
       "      <th>1</th>\n",
       "      <td>2</td>\n",
       "      <td>Green Fork</td>\n",
       "      <td>NaN</td>\n",
       "      <td>Westeros</td>\n",
       "      <td>LINESTRING (12.56364 16.86353, 12.61822 16.744...</td>\n",
       "    </tr>\n",
       "    <tr>\n",
       "      <th>2</th>\n",
       "      <td>3</td>\n",
       "      <td>Green Fork</td>\n",
       "      <td>NaN</td>\n",
       "      <td>Westeros</td>\n",
       "      <td>LINESTRING (13.25822 14.53671, 13.25822 14.536...</td>\n",
       "    </tr>\n",
       "    <tr>\n",
       "      <th>3</th>\n",
       "      <td>4</td>\n",
       "      <td>Blue Fork</td>\n",
       "      <td>NaN</td>\n",
       "      <td>Westeros</td>\n",
       "      <td>MULTILINESTRING ((13.87682 12.37360, 13.84209 ...</td>\n",
       "    </tr>\n",
       "    <tr>\n",
       "      <th>4</th>\n",
       "      <td>5</td>\n",
       "      <td>Red Fork</td>\n",
       "      <td>NaN</td>\n",
       "      <td>Westeros</td>\n",
       "      <td>MULTILINESTRING ((10.45109 8.89578, 10.40147 8...</td>\n",
       "    </tr>\n",
       "  </tbody>\n",
       "</table>\n",
       "</div>\n",
       "      <button class=\"colab-df-convert\" onclick=\"convertToInteractive('df-b8475278-b38c-435c-a6b2-c9e41ee08d25')\"\n",
       "              title=\"Convert this dataframe to an interactive table.\"\n",
       "              style=\"display:none;\">\n",
       "        \n",
       "  <svg xmlns=\"http://www.w3.org/2000/svg\" height=\"24px\"viewBox=\"0 0 24 24\"\n",
       "       width=\"24px\">\n",
       "    <path d=\"M0 0h24v24H0V0z\" fill=\"none\"/>\n",
       "    <path d=\"M18.56 5.44l.94 2.06.94-2.06 2.06-.94-2.06-.94-.94-2.06-.94 2.06-2.06.94zm-11 1L8.5 8.5l.94-2.06 2.06-.94-2.06-.94L8.5 2.5l-.94 2.06-2.06.94zm10 10l.94 2.06.94-2.06 2.06-.94-2.06-.94-.94-2.06-.94 2.06-2.06.94z\"/><path d=\"M17.41 7.96l-1.37-1.37c-.4-.4-.92-.59-1.43-.59-.52 0-1.04.2-1.43.59L10.3 9.45l-7.72 7.72c-.78.78-.78 2.05 0 2.83L4 21.41c.39.39.9.59 1.41.59.51 0 1.02-.2 1.41-.59l7.78-7.78 2.81-2.81c.8-.78.8-2.07 0-2.86zM5.41 20L4 18.59l7.72-7.72 1.47 1.35L5.41 20z\"/>\n",
       "  </svg>\n",
       "      </button>\n",
       "      \n",
       "  <style>\n",
       "    .colab-df-container {\n",
       "      display:flex;\n",
       "      flex-wrap:wrap;\n",
       "      gap: 12px;\n",
       "    }\n",
       "\n",
       "    .colab-df-convert {\n",
       "      background-color: #E8F0FE;\n",
       "      border: none;\n",
       "      border-radius: 50%;\n",
       "      cursor: pointer;\n",
       "      display: none;\n",
       "      fill: #1967D2;\n",
       "      height: 32px;\n",
       "      padding: 0 0 0 0;\n",
       "      width: 32px;\n",
       "    }\n",
       "\n",
       "    .colab-df-convert:hover {\n",
       "      background-color: #E2EBFA;\n",
       "      box-shadow: 0px 1px 2px rgba(60, 64, 67, 0.3), 0px 1px 3px 1px rgba(60, 64, 67, 0.15);\n",
       "      fill: #174EA6;\n",
       "    }\n",
       "\n",
       "    [theme=dark] .colab-df-convert {\n",
       "      background-color: #3B4455;\n",
       "      fill: #D2E3FC;\n",
       "    }\n",
       "\n",
       "    [theme=dark] .colab-df-convert:hover {\n",
       "      background-color: #434B5C;\n",
       "      box-shadow: 0px 1px 3px 1px rgba(0, 0, 0, 0.15);\n",
       "      filter: drop-shadow(0px 1px 2px rgba(0, 0, 0, 0.3));\n",
       "      fill: #FFFFFF;\n",
       "    }\n",
       "  </style>\n",
       "\n",
       "      <script>\n",
       "        const buttonEl =\n",
       "          document.querySelector('#df-b8475278-b38c-435c-a6b2-c9e41ee08d25 button.colab-df-convert');\n",
       "        buttonEl.style.display =\n",
       "          google.colab.kernel.accessAllowed ? 'block' : 'none';\n",
       "\n",
       "        async function convertToInteractive(key) {\n",
       "          const element = document.querySelector('#df-b8475278-b38c-435c-a6b2-c9e41ee08d25');\n",
       "          const dataTable =\n",
       "            await google.colab.kernel.invokeFunction('convertToInteractive',\n",
       "                                                     [key], {});\n",
       "          if (!dataTable) return;\n",
       "\n",
       "          const docLinkHtml = 'Like what you see? Visit the ' +\n",
       "            '<a target=\"_blank\" href=https://colab.research.google.com/notebooks/data_table.ipynb>data table notebook</a>'\n",
       "            + ' to learn more about interactive tables.';\n",
       "          element.innerHTML = '';\n",
       "          dataTable['output_type'] = 'display_data';\n",
       "          await google.colab.output.renderOutput(dataTable, element);\n",
       "          const docLink = document.createElement('div');\n",
       "          docLink.innerHTML = docLinkHtml;\n",
       "          element.appendChild(docLink);\n",
       "        }\n",
       "      </script>\n",
       "    </div>\n",
       "  </div>\n",
       "  "
      ],
      "text/plain": [
       "   id             name  size continent  \\\n",
       "0   1  Blackwater Rush   2.0  Westeros   \n",
       "1   2       Green Fork   NaN  Westeros   \n",
       "2   3       Green Fork   NaN  Westeros   \n",
       "3   4        Blue Fork   NaN  Westeros   \n",
       "4   5         Red Fork   NaN  Westeros   \n",
       "\n",
       "                                            geometry  \n",
       "0  MULTILINESTRING ((13.46074 6.13880, 13.62488 6...  \n",
       "1  LINESTRING (12.56364 16.86353, 12.61822 16.744...  \n",
       "2  LINESTRING (13.25822 14.53671, 13.25822 14.536...  \n",
       "3  MULTILINESTRING ((13.87682 12.37360, 13.84209 ...  \n",
       "4  MULTILINESTRING ((10.45109 8.89578, 10.40147 8...  "
      ]
     },
     "execution_count": 225,
     "metadata": {},
     "output_type": "execute_result"
    }
   ],
   "source": [
    "rivers.head()"
   ]
  },
  {
   "cell_type": "markdown",
   "metadata": {
    "id": "OuXwngBRP7U3"
   },
   "source": [
    "# Roads"
   ]
  },
  {
   "cell_type": "code",
   "execution_count": 226,
   "metadata": {
    "colab": {
     "base_uri": "https://localhost:8080/",
     "height": 265
    },
    "id": "ckKt2tFNEroW",
    "outputId": "8706871d-0f05-48f8-b43e-c93af68facf9"
   },
   "outputs": [
    {
     "data": {
      "image/png": "[encoded data removed]",
      "text/plain": [
       "<Figure size 432x288 with 1 Axes>"
      ]
     },
     "metadata": {
      "needs_background": "light"
     },
     "output_type": "display_data"
    }
   ],
   "source": [
    "roads = gpd.read_file(\"got_roads.geojson\")\n",
    "x = roads.plot()"
   ]
  },
  {
   "cell_type": "code",
   "execution_count": 227,
   "metadata": {
    "colab": {
     "base_uri": "https://localhost:8080/"
    },
    "id": "aG3xjGE_Psju",
    "outputId": "e0e1fee2-c373-4b9d-9c80-deeadfbbe6fd"
   },
   "outputs": [
    {
     "data": {
      "text/plain": [
       "array(['Westeros', 'Essos'], dtype=object)"
      ]
     },
     "execution_count": 227,
     "metadata": {},
     "output_type": "execute_result"
    }
   ],
   "source": [
    "roads[\"continent\"].unique()"
   ]
  },
  {
   "cell_type": "code",
   "execution_count": 228,
   "metadata": {
    "colab": {
     "base_uri": "https://localhost:8080/",
     "height": 107
    },
    "id": "wklB3D5sEvev",
    "outputId": "a15dfe99-8c38-4dbe-96ff-d8a469fdb1c2"
   },
   "outputs": [
    {
     "data": {
      "text/plain": [
       "<matplotlib.axes._subplots.AxesSubplot at 0x7f6467089b90>"
      ]
     },
     "execution_count": 228,
     "metadata": {},
     "output_type": "execute_result"
    },
    {
     "data": {
      "image/png": "[encoded data removed]",
      "text/plain": [
       "<Figure size 432x288 with 1 Axes>"
      ]
     },
     "metadata": {
      "needs_background": "light"
     },
     "output_type": "display_data"
    }
   ],
   "source": [
    "wall = gpd.read_file(\"got_wall.geojson\")\n",
    "wall.plot()"
   ]
  },
  {
   "cell_type": "markdown",
   "metadata": {
    "id": "q_S_Um3qQbYI"
   },
   "source": [
    "# Locations"
   ]
  },
  {
   "cell_type": "code",
   "execution_count": 229,
   "metadata": {
    "colab": {
     "base_uri": "https://localhost:8080/",
     "height": 285
    },
    "id": "5786rsW8Eya7",
    "outputId": "f0d103b5-dba1-405d-ce19-070d54d47e1a"
   },
   "outputs": [
    {
     "data": {
      "text/plain": [
       "<matplotlib.axes._subplots.AxesSubplot at 0x7f646670f390>"
      ]
     },
     "execution_count": 229,
     "metadata": {},
     "output_type": "execute_result"
    },
    {
     "data": {
      "image/png": "[encoded data removed]",
      "text/plain": [
       "<Figure size 432x288 with 1 Axes>"
      ]
     },
     "metadata": {
      "needs_background": "light"
     },
     "output_type": "display_data"
    }
   ],
   "source": [
    "locations = gpd.read_file(\"got_locations.geojson\")\n",
    "locations.plot()"
   ]
  },
  {
   "cell_type": "code",
   "execution_count": 230,
   "metadata": {
    "colab": {
     "base_uri": "https://localhost:8080/",
     "height": 206
    },
    "id": "3ZujsPjSUqT4",
    "outputId": "8dc09cb1-4c58-41ad-89ee-351788dad554"
   },
   "outputs": [
    {
     "data": {
      "text/html": [
       "\n",
       "  <div id=\"df-54a0a23f-c1a8-4c75-85bc-850b350411d1\">\n",
       "    <div class=\"colab-df-container\">\n",
       "      <div>\n",
       "<style scoped>\n",
       "    .dataframe tbody tr th:only-of-type {\n",
       "        vertical-align: middle;\n",
       "    }\n",
       "\n",
       "    .dataframe tbody tr th {\n",
       "        vertical-align: top;\n",
       "    }\n",
       "\n",
       "    .dataframe thead th {\n",
       "        text-align: right;\n",
       "    }\n",
       "</style>\n",
       "<table border=\"1\" class=\"dataframe\">\n",
       "  <thead>\n",
       "    <tr style=\"text-align: right;\">\n",
       "      <th></th>\n",
       "      <th>id</th>\n",
       "      <th>name</th>\n",
       "      <th>size</th>\n",
       "      <th>confirmed</th>\n",
       "      <th>type</th>\n",
       "      <th>geometry</th>\n",
       "    </tr>\n",
       "  </thead>\n",
       "  <tbody>\n",
       "    <tr>\n",
       "      <th>0</th>\n",
       "      <td>1</td>\n",
       "      <td>King's Landing</td>\n",
       "      <td>5</td>\n",
       "      <td>1</td>\n",
       "      <td>City</td>\n",
       "      <td>POINT (19.07823 3.95361)</td>\n",
       "    </tr>\n",
       "    <tr>\n",
       "      <th>1</th>\n",
       "      <td>2</td>\n",
       "      <td>Hayford Castle</td>\n",
       "      <td>3</td>\n",
       "      <td>0</td>\n",
       "      <td>Castle</td>\n",
       "      <td>POINT (18.80257 4.48800)</td>\n",
       "    </tr>\n",
       "    <tr>\n",
       "      <th>2</th>\n",
       "      <td>3</td>\n",
       "      <td>Rosby</td>\n",
       "      <td>3</td>\n",
       "      <td>1</td>\n",
       "      <td>Castle</td>\n",
       "      <td>POINT (19.98698 4.62115)</td>\n",
       "    </tr>\n",
       "    <tr>\n",
       "      <th>3</th>\n",
       "      <td>4</td>\n",
       "      <td>Old Stone Bridge Inn</td>\n",
       "      <td>1</td>\n",
       "      <td>0</td>\n",
       "      <td>Other</td>\n",
       "      <td>POINT (20.39814 5.04166)</td>\n",
       "    </tr>\n",
       "    <tr>\n",
       "      <th>4</th>\n",
       "      <td>5</td>\n",
       "      <td>Brindlewood</td>\n",
       "      <td>1</td>\n",
       "      <td>0</td>\n",
       "      <td>Other</td>\n",
       "      <td>POINT (18.65072 5.52757)</td>\n",
       "    </tr>\n",
       "  </tbody>\n",
       "</table>\n",
       "</div>\n",
       "      <button class=\"colab-df-convert\" onclick=\"convertToInteractive('df-54a0a23f-c1a8-4c75-85bc-850b350411d1')\"\n",
       "              title=\"Convert this dataframe to an interactive table.\"\n",
       "              style=\"display:none;\">\n",
       "        \n",
       "  <svg xmlns=\"http://www.w3.org/2000/svg\" height=\"24px\"viewBox=\"0 0 24 24\"\n",
       "       width=\"24px\">\n",
       "    <path d=\"M0 0h24v24H0V0z\" fill=\"none\"/>\n",
       "    <path d=\"M18.56 5.44l.94 2.06.94-2.06 2.06-.94-2.06-.94-.94-2.06-.94 2.06-2.06.94zm-11 1L8.5 8.5l.94-2.06 2.06-.94-2.06-.94L8.5 2.5l-.94 2.06-2.06.94zm10 10l.94 2.06.94-2.06 2.06-.94-2.06-.94-.94-2.06-.94 2.06-2.06.94z\"/><path d=\"M17.41 7.96l-1.37-1.37c-.4-.4-.92-.59-1.43-.59-.52 0-1.04.2-1.43.59L10.3 9.45l-7.72 7.72c-.78.78-.78 2.05 0 2.83L4 21.41c.39.39.9.59 1.41.59.51 0 1.02-.2 1.41-.59l7.78-7.78 2.81-2.81c.8-.78.8-2.07 0-2.86zM5.41 20L4 18.59l7.72-7.72 1.47 1.35L5.41 20z\"/>\n",
       "  </svg>\n",
       "      </button>\n",
       "      \n",
       "  <style>\n",
       "    .colab-df-container {\n",
       "      display:flex;\n",
       "      flex-wrap:wrap;\n",
       "      gap: 12px;\n",
       "    }\n",
       "\n",
       "    .colab-df-convert {\n",
       "      background-color: #E8F0FE;\n",
       "      border: none;\n",
       "      border-radius: 50%;\n",
       "      cursor: pointer;\n",
       "      display: none;\n",
       "      fill: #1967D2;\n",
       "      height: 32px;\n",
       "      padding: 0 0 0 0;\n",
       "      width: 32px;\n",
       "    }\n",
       "\n",
       "    .colab-df-convert:hover {\n",
       "      background-color: #E2EBFA;\n",
       "      box-shadow: 0px 1px 2px rgba(60, 64, 67, 0.3), 0px 1px 3px 1px rgba(60, 64, 67, 0.15);\n",
       "      fill: #174EA6;\n",
       "    }\n",
       "\n",
       "    [theme=dark] .colab-df-convert {\n",
       "      background-color: #3B4455;\n",
       "      fill: #D2E3FC;\n",
       "    }\n",
       "\n",
       "    [theme=dark] .colab-df-convert:hover {\n",
       "      background-color: #434B5C;\n",
       "      box-shadow: 0px 1px 3px 1px rgba(0, 0, 0, 0.15);\n",
       "      filter: drop-shadow(0px 1px 2px rgba(0, 0, 0, 0.3));\n",
       "      fill: #FFFFFF;\n",
       "    }\n",
       "  </style>\n",
       "\n",
       "      <script>\n",
       "        const buttonEl =\n",
       "          document.querySelector('#df-54a0a23f-c1a8-4c75-85bc-850b350411d1 button.colab-df-convert');\n",
       "        buttonEl.style.display =\n",
       "          google.colab.kernel.accessAllowed ? 'block' : 'none';\n",
       "\n",
       "        async function convertToInteractive(key) {\n",
       "          const element = document.querySelector('#df-54a0a23f-c1a8-4c75-85bc-850b350411d1');\n",
       "          const dataTable =\n",
       "            await google.colab.kernel.invokeFunction('convertToInteractive',\n",
       "                                                     [key], {});\n",
       "          if (!dataTable) return;\n",
       "\n",
       "          const docLinkHtml = 'Like what you see? Visit the ' +\n",
       "            '<a target=\"_blank\" href=https://colab.research.google.com/notebooks/data_table.ipynb>data table notebook</a>'\n",
       "            + ' to learn more about interactive tables.';\n",
       "          element.innerHTML = '';\n",
       "          dataTable['output_type'] = 'display_data';\n",
       "          await google.colab.output.renderOutput(dataTable, element);\n",
       "          const docLink = document.createElement('div');\n",
       "          docLink.innerHTML = docLinkHtml;\n",
       "          element.appendChild(docLink);\n",
       "        }\n",
       "      </script>\n",
       "    </div>\n",
       "  </div>\n",
       "  "
      ],
      "text/plain": [
       "   id                  name  size  confirmed    type                  geometry\n",
       "0   1        King's Landing     5          1    City  POINT (19.07823 3.95361)\n",
       "1   2        Hayford Castle     3          0  Castle  POINT (18.80257 4.48800)\n",
       "2   3                 Rosby     3          1  Castle  POINT (19.98698 4.62115)\n",
       "3   4  Old Stone Bridge Inn     1          0   Other  POINT (20.39814 5.04166)\n",
       "4   5           Brindlewood     1          0   Other  POINT (18.65072 5.52757)"
      ]
     },
     "execution_count": 230,
     "metadata": {},
     "output_type": "execute_result"
    }
   ],
   "source": [
    "locations.head()"
   ]
  },
  {
   "cell_type": "code",
   "execution_count": 231,
   "metadata": {
    "colab": {
     "base_uri": "https://localhost:8080/"
    },
    "collapsed": true,
    "id": "ZEybNMPRNOOn",
    "jupyter": {
     "outputs_hidden": true
    },
    "outputId": "18c80b31-9629-423e-b2b0-1e04d3352511",
    "tags": []
   },
   "outputs": [
    {
     "data": {
      "text/plain": [
       "['Acorn Hall',\n",
       " 'Antlers',\n",
       " 'Ar Noy',\n",
       " 'Ashemark',\n",
       " 'Ashford',\n",
       " 'Astapor',\n",
       " 'BWB hideout',\n",
       " 'Baelish Keep',\n",
       " 'Bandallon',\n",
       " 'Banefort',\n",
       " 'Barrowton',\n",
       " 'Bhorash',\n",
       " 'Bitterbridge',\n",
       " 'Blackcrown',\n",
       " 'Blackhaven',\n",
       " 'Blackmont',\n",
       " 'Braavos',\n",
       " 'Brightwater Keep',\n",
       " 'Brindlewood',\n",
       " 'Bronzegate',\n",
       " 'Castamere',\n",
       " 'Castle Black',\n",
       " 'Castle Goodbrother',\n",
       " 'Cerwyn',\n",
       " 'Cider Hall',\n",
       " 'Clegane Hall',\n",
       " 'Coldwater',\n",
       " 'Cornfield',\n",
       " 'Crakehall',\n",
       " \"Craster's Keep\",\n",
       " \"Crofters' Village\",\n",
       " 'Crossroads Inn',\n",
       " \"Crow's Nest\",\n",
       " 'Darry',\n",
       " 'Deep Den',\n",
       " 'Deep Lake',\n",
       " 'Deepwood Motte',\n",
       " 'Dragonstone',\n",
       " 'Duskendale',\n",
       " 'Dyre Den',\n",
       " 'Eastwatch-by-the-Sea',\n",
       " 'Elyria',\n",
       " 'Evenfall Hall',\n",
       " 'Faircastle',\n",
       " 'Fairmarket',\n",
       " 'Fawnton',\n",
       " 'Feastfires',\n",
       " 'Felwood',\n",
       " 'Fishing Village',\n",
       " 'Fist of the First Men',\n",
       " \"Flint's Finger\",\n",
       " 'Ghaston Grey',\n",
       " 'Ghost Hill',\n",
       " 'Ghoyan Drohe',\n",
       " 'Ghozai',\n",
       " 'Godsgrace',\n",
       " 'Gogossos',\n",
       " 'Golden Tooth',\n",
       " 'Goldengrove',\n",
       " 'Grandview',\n",
       " 'Grassy Vale',\n",
       " 'Greenguard',\n",
       " 'Greenstone',\n",
       " 'Greyguard',\n",
       " 'Greywater Watch',\n",
       " \"Griffin's Roost\",\n",
       " 'Gulltown',\n",
       " 'Hammerhorn',\n",
       " 'Harrenhal',\n",
       " 'Hayford Castle',\n",
       " 'Haystack Hall',\n",
       " \"Heart's Home\",\n",
       " 'Hellholt',\n",
       " 'High Heart',\n",
       " 'High Hermitage',\n",
       " 'Highgarden',\n",
       " 'Hoarfrost Hill',\n",
       " 'Holdfast',\n",
       " 'Holdfast',\n",
       " 'Hollow Hill',\n",
       " 'Honeyholt',\n",
       " 'Horn Hill',\n",
       " 'Hornvale',\n",
       " 'Hornwood',\n",
       " 'Icemark',\n",
       " 'Inn (They Ley with Lions)',\n",
       " 'Inn of the Kneeling Man',\n",
       " 'Ironoaks',\n",
       " 'Ivy Inn',\n",
       " 'Karhold',\n",
       " 'Kayce',\n",
       " \"King's Landing\",\n",
       " 'Kingsgrave',\n",
       " 'Lady of the Leaves',\n",
       " 'Lannisport',\n",
       " 'Last Hearth',\n",
       " 'Lemonwood',\n",
       " 'Lhazarene Village',\n",
       " 'Long Barrow',\n",
       " 'Longbow Hall',\n",
       " 'Longtable',\n",
       " 'Lorath',\n",
       " \"Lord Goodbrook's Village\",\n",
       " \"Lord Hewett's Town\",\n",
       " \"Lord Lychester's Keep\",\n",
       " \"Lort Harroway's Town\",\n",
       " 'Lys',\n",
       " 'Maidenpool',\n",
       " 'Mantarys',\n",
       " 'Meereen',\n",
       " 'Mistwood',\n",
       " 'Moat Cailin',\n",
       " \"Mole's Town\",\n",
       " \"Mummer's Ford\",\n",
       " 'Myr',\n",
       " \"Nagga's Ribs\",\n",
       " 'New Ghis',\n",
       " 'Nightfort',\n",
       " 'Nightsong',\n",
       " 'Norvos',\n",
       " \"Nunn's Deep\",\n",
       " 'Ny Sar',\n",
       " 'Oakensheild',\n",
       " 'Old Anchor',\n",
       " 'Old Ghis',\n",
       " 'Old Oak',\n",
       " 'Old Stone Bridge Inn',\n",
       " 'Oldcastle',\n",
       " 'Oldstones',\n",
       " 'Oldtown',\n",
       " 'Oros',\n",
       " 'Oxcross',\n",
       " 'Palisade Village',\n",
       " 'Parchments',\n",
       " 'Pebbleton',\n",
       " 'Pendric Hills',\n",
       " 'Pennytree',\n",
       " 'Pentos',\n",
       " 'Pinkmaiden',\n",
       " 'Planky Town',\n",
       " 'Pyke',\n",
       " 'Qarth',\n",
       " 'Qohor',\n",
       " 'Queenscrown',\n",
       " 'Queensgate',\n",
       " 'Quiet Isle',\n",
       " 'Rain House',\n",
       " 'Ramsgate',\n",
       " 'Raventree Hall',\n",
       " 'Red Lake',\n",
       " 'Redfort',\n",
       " 'Rimegate',\n",
       " 'Riverrun',\n",
       " \"Rook's Rest\",\n",
       " 'Rosby',\n",
       " 'Runestone',\n",
       " 'Rushing Falls',\n",
       " 'Sable Hall',\n",
       " 'Sallydance',\n",
       " 'Salt Shore',\n",
       " 'Saltpans',\n",
       " 'Sandstone',\n",
       " 'Sar Mell',\n",
       " 'Sarsfield',\n",
       " 'Seagard',\n",
       " 'Selhorys',\n",
       " 'Sentinel Stand',\n",
       " 'Sept',\n",
       " 'Shadow Tower',\n",
       " 'Shandystone',\n",
       " 'Sharp Point',\n",
       " 'Sherrer',\n",
       " 'Silverhill',\n",
       " 'Sisterton',\n",
       " 'Skyreach',\n",
       " 'Snakewood',\n",
       " \"Sow's Horn\",\n",
       " 'Starfall',\n",
       " 'Stokeworth',\n",
       " 'Stone Hedge',\n",
       " 'Stone Mill',\n",
       " 'Stonedance',\n",
       " 'Stonedoor',\n",
       " 'Stonehelm',\n",
       " 'Stoney Sept',\n",
       " \"Storm's End\",\n",
       " 'Strongsong',\n",
       " 'Summerhall',\n",
       " 'Sunflower Hall',\n",
       " 'Sunspear',\n",
       " 'Tall Trees Town',\n",
       " 'Tarbeck Hall',\n",
       " 'Ten Towers',\n",
       " 'The Bloody Gate',\n",
       " 'The Crag',\n",
       " 'The Dreadfort',\n",
       " 'The Eyrie',\n",
       " 'The Sorrows (Chroyane)',\n",
       " 'The Tor',\n",
       " 'The Twins',\n",
       " 'The Whispers',\n",
       " 'Three Towers',\n",
       " 'Tolos',\n",
       " 'Torches',\n",
       " \"Torrhen's Square\",\n",
       " 'Tower',\n",
       " 'Tower of Joy',\n",
       " 'Tumbledown Tower',\n",
       " 'Tumblers Falls',\n",
       " 'Tumbleton',\n",
       " 'Tyria',\n",
       " 'Tyrosh',\n",
       " 'Unnamed Village',\n",
       " 'Uplands',\n",
       " 'Vaes Dothrak',\n",
       " 'Vaith',\n",
       " 'Valyria',\n",
       " 'Valysar',\n",
       " 'Velos',\n",
       " 'Village',\n",
       " 'Volantis',\n",
       " 'Volon Therys',\n",
       " \"Vulture's Roost\",\n",
       " 'Water Gardens',\n",
       " \"Wayfarer's Rest\",\n",
       " 'Weeping Tower',\n",
       " 'Wendish Town',\n",
       " 'Westwatch-by-the-Bridge',\n",
       " 'White Harbor',\n",
       " 'Whitetree',\n",
       " 'Wickenden',\n",
       " \"Widow's Watch\",\n",
       " 'Winterfell',\n",
       " 'Woodswatch-by-the-Pool',\n",
       " 'Wyl',\n",
       " 'Yeen',\n",
       " 'Yronwood',\n",
       " 'Yunkai',\n",
       " 'Zamettar']"
      ]
     },
     "execution_count": 231,
     "metadata": {},
     "output_type": "execute_result"
    }
   ],
   "source": [
    "posti = list(locations[\"name\"].where(locations[\"name\"] != \"None\").values)\n",
    "\n",
    "# sorted list of places without nulls\n",
    "posti_ok = sorted([el for el in posti if el is not None])\n",
    "posti_ok"
   ]
  },
  {
   "cell_type": "markdown",
   "metadata": {
    "id": "c4cnwg07aTpJ"
   },
   "source": [
    "# Overall map\n"
   ]
  },
  {
   "cell_type": "code",
   "execution_count": 232,
   "metadata": {
    "colab": {
     "base_uri": "https://localhost:8080/",
     "height": 413
    },
    "id": "UxXDYZaLaWNm",
    "outputId": "ccd851d9-67db-4f24-9f57-93186261f2b7"
   },
   "outputs": [
    {
     "data": {
      "text/plain": [
       "Text(0.5, 1.0, 'GOT World Map')"
      ]
     },
     "execution_count": 232,
     "metadata": {},
     "output_type": "execute_result"
    },
    {
     "data": {
      "image/png": "[encoded data removed]",
      "text/plain": [
       "<Figure size 432x432 with 1 Axes>"
      ]
     },
     "metadata": {
      "needs_background": "light"
     },
     "output_type": "display_data"
    }
   ],
   "source": [
    "fig = plt.figure(figsize=(6,6))\n",
    "ax = plt.axes()\n",
    "\n",
    "continents.plot(ax = ax, color=\"#b3ffff\")\n",
    "islands.plot(ax=ax, color=\"#00b3b3\")\n",
    "lakes.plot(ax=ax, color=\"white\")\n",
    "rivers.plot(ax=ax, color=\"white\")\n",
    "roads.plot(ax=ax, color=\"black\")\n",
    "locations.plot(ax=ax, cmap=\"Reds\", edgecolor=\"black\", marker=\"*\", markersize=50)\n",
    "\n",
    "ax.set_title(\"GOT World Map\", fontsize=20)"
   ]
  },
  {
   "cell_type": "markdown",
   "metadata": {
    "id": "TuoYGTF3AawR"
   },
   "source": [
    "# Chapter- John I"
   ]
  },
  {
   "cell_type": "code",
   "execution_count": 233,
   "metadata": {
    "colab": {
     "base_uri": "https://localhost:8080/"
    },
    "id": "TKIi0X0o-IcQ",
    "outputId": "9fcfc6a7-643f-4677-b8f0-4cc4e2724d5e"
   },
   "outputs": [
    {
     "data": {
      "text/plain": [
       "['Queenscrown', \"Storm's End\", 'Queensgate', \"King's Landing\", 'Oldtown']"
      ]
     },
     "execution_count": 233,
     "metadata": {},
     "output_type": "execute_result"
    }
   ],
   "source": [
    "Book_name = \"A Dance with Dragons\"\n",
    "Chap_name = \"John I\"\n",
    "Chap_num = \"Chapter 3\"\n",
    "\n",
    "n = \"\"\"the Wall,\n",
    "the Twins,\n",
    "Queenscrown,\n",
    "King's Tower,\n",
    "Storm's End,\n",
    "Queensgate,\n",
    "Oakenshield,\n",
    "Valyrian steel,\n",
    "Longclaw,\n",
    "Hardin's Tower,\n",
    "House Baratheon,\n",
    "Thenns,\n",
    "Free folk,\n",
    "Dornish Marches,\n",
    "the Others,\n",
    "Bear Island,\n",
    "King in the North,\n",
    "House Karstark,\n",
    "House Bolton,\n",
    "Westeros,\n",
    "Night's Watch,\n",
    "Oldtown,\n",
    "King's Landing,\n",
    "Seven Kingdoms\"\"\"\n",
    "\n",
    "n = n.split(\",\")\n",
    "res = [el.replace(\"\\n\", \"\") for el in n]\n",
    "cap1_visitati = list(set(res) & set(posti_ok))\n",
    "\n",
    "cap1_visitati"
   ]
  },
  {
   "cell_type": "code",
   "execution_count": 234,
   "metadata": {
    "colab": {
     "base_uri": "https://localhost:8080/",
     "height": 630
    },
    "id": "FPLAThZHAz9j",
    "outputId": "6b6115d8-8ac6-4b09-ed6c-7b34735fe52b"
   },
   "outputs": [
    {
     "data": {
      "text/plain": [
       "Text(0.5, 1.0, 'A Dance with Dragons - John I - Chapter 3')"
      ]
     },
     "execution_count": 234,
     "metadata": {},
     "output_type": "execute_result"
    },
    {
     "data": {
      "image/png": "[encoded data removed]",
      "text/plain": [
       "<Figure size 720x720 with 1 Axes>"
      ]
     },
     "metadata": {
      "needs_background": "light"
     },
     "output_type": "display_data"
    }
   ],
   "source": [
    "fig = plt.figure(figsize=(10,10))\n",
    "ax = plt.axes()\n",
    "\n",
    "#plotting GeoDataFrames with restrictions for visualization purposes\n",
    "continents.where(continents[\"name\"]==\"Westeros\").plot(ax = ax, color=\"#b3ffff\")\n",
    "islands.where(islands[\"continent\"] == \"Westeros\").plot(ax=ax, color=\"#00b3b3\")\n",
    "lakes.where(lakes[\"continent\"] == \"Westeros\").plot(ax=ax, color=\"white\")\n",
    "\n",
    "l = locations.where(locations[\"name\"].isin(cap1_visitati)).dropna()\n",
    "l.plot(ax=ax, cmap=\"Reds\", edgecolor=\"black\", marker=\"*\", markersize=150)\n",
    "\n",
    "rivers.plot(ax=ax, color=\"white\", label=\"rivers\")\n",
    "\n",
    "#making a legend in the plot\n",
    "for i in range(len(l)):\n",
    "    plt.text(x=l.iloc[i][\"geometry\"].x, y=l.iloc[i][\"geometry\"].y, \n",
    "             s=cap1_visitati[i], fontsize = 10)\n",
    "\n",
    "ax.set_title(str(Book_name)+\" - \"+str(Chap_name)+\" - \"+str(Chap_num), fontsize=20)"
   ]
  },
  {
   "cell_type": "markdown",
   "metadata": {
    "id": "b1jRUtInQgw9"
   },
   "source": [
    "#Chapter - Daenerys I"
   ]
  },
  {
   "cell_type": "markdown",
   "metadata": {
    "id": "31zFulp0RWqO"
   },
   "source": [
    "*... Ghael has asked Daenerys for her hand in marriage in Cleon's name several times before, but today he proposes **Astapor** and **Meereen** form an alliance against **Yunkai** ...* etc.\n",
    "\n"
   ]
  },
  {
   "cell_type": "code",
   "execution_count": 235,
   "metadata": {
    "id": "v6DB9FGQcUsl"
   },
   "outputs": [],
   "source": [
    "Book_name = \"A Dance with Dragons\"\n",
    "Chap_name = \"Daenerys I\"\n",
    "Chap_num = \"Chapter 2\"\n",
    "\n",
    "cap2_visitati = [\n",
    "    \"Astapor\", \"Elyria\", \"Ghis\", \"Lhazar\", \"Lys\", \"Meereen\", \"Myr\", \n",
    "    \"New Ghis\", \"Skahazadhan\", \"Tolos\", \"Vaes Dothrak\", \"Volantis\", \"Yunkai\"\n",
    "]"
   ]
  },
  {
   "cell_type": "code",
   "execution_count": 236,
   "metadata": {
    "colab": {
     "base_uri": "https://localhost:8080/",
     "height": 601
    },
    "id": "C2kpm7gRFLJn",
    "outputId": "a89e7cf4-22f6-4643-dfed-17b9c79f4b49"
   },
   "outputs": [
    {
     "data": {
      "text/plain": [
       "Text(0.5, 1.0, 'A Dance with Dragons - Daenerys I - Chapter 2')"
      ]
     },
     "execution_count": 236,
     "metadata": {},
     "output_type": "execute_result"
    },
    {
     "data": {
      "image/png": "[encoded data removed]",
      "text/plain": [
       "<Figure size 720x720 with 1 Axes>"
      ]
     },
     "metadata": {
      "needs_background": "light"
     },
     "output_type": "display_data"
    }
   ],
   "source": [
    "fig = plt.figure(figsize=(10,10))\n",
    "ax = plt.axes()\n",
    "\n",
    "#plotting GeoDataFrames with restrictions for visualization purposes\n",
    "continents.where(continents[\"name\"]==\"Essos\").plot(ax = ax, color=\"#b3ffff\")\n",
    "islands.where(islands[\"continent\"] == \"Essos\").plot(ax=ax, color=\"#00b3b3\")\n",
    "lakes.where(lakes[\"continent\"] == \"Essos\").plot(ax=ax, color=\"white\")\n",
    "\n",
    "l = locations.where(locations[\"name\"].isin(cap2_visitati)).dropna()\n",
    "l.plot(ax=ax, cmap=\"Reds\", edgecolor=\"black\", marker=\"*\", markersize=150)\n",
    "\n",
    "rivers.plot(ax=ax, color=\"white\", label=\"rivers\")\n",
    "\n",
    "#making a legend in the plot\n",
    "for i in range(len(l)):\n",
    "    plt.text(x=l.iloc[i][\"geometry\"].x, y=l.iloc[i][\"geometry\"].y, \n",
    "             s=cap2_visitati[i], fontsize = 10)\n",
    "\n",
    "rivers.where(rivers[\"continent\"] == \"Essos\").plot(ax=ax, color=\"white\")\n",
    "\n",
    "ax.set_title(str(Book_name)+\" - \"+str(Chap_name)+\" - \"+str(Chap_num), fontsize=20)"
   ]
  },
  {
   "cell_type": "markdown",
   "metadata": {
    "id": "JUer_5jWDXW4"
   },
   "source": [
    "#Chapter 3 - Tyrion II"
   ]
  },
  {
   "cell_type": "code",
   "execution_count": 237,
   "metadata": {
    "colab": {
     "base_uri": "https://localhost:8080/"
    },
    "id": "iTugOzzyL5fr",
    "jupyter": {
     "source_hidden": true
    },
    "outputId": "cd71da95-93bc-41b7-d47b-1e600a82eaa8",
    "tags": []
   },
   "outputs": [
    {
     "data": {
      "text/plain": [
       "['Lys',\n",
       " 'Tyrosh',\n",
       " 'Dragonstone',\n",
       " 'Valyria',\n",
       " 'Meereen',\n",
       " 'Pentos',\n",
       " \"King's Landing\",\n",
       " 'Astapor',\n",
       " 'Mantarys',\n",
       " 'Yunkai',\n",
       " 'Myr',\n",
       " 'Volantis']"
      ]
     },
     "execution_count": 237,
     "metadata": {},
     "output_type": "execute_result"
    }
   ],
   "source": [
    "Book_name = \"A Dance with Dragons\"\n",
    "Chap_name = \"Tyrion 2\"\n",
    "Chap_num = \"Chapter 5\"\n",
    "\n",
    "m = \"\"\"Pentos,\n",
    "Unsullied,\n",
    "Asshai,\n",
    "Volantis,\n",
    "Stepstones,\n",
    "Rhoyne,\n",
    "Valyria,\n",
    "Iron Throne,\n",
    "Dothraki,\n",
    "Dothraki Sea,\n",
    "House Targaryen,\n",
    "Slaver's Bay,\n",
    "Astapor,\n",
    "Yunkai,\n",
    "Meereen,\n",
    "Mantarys,\n",
    "Westeros,\n",
    "Free Cities,\n",
    "Casterly Rock,\n",
    "Master of Coin,\n",
    "Myr,\n",
    "King's Landing,\n",
    "Valyrian Freehold,\n",
    "Dragonstone,\n",
    "Seven Kingdoms,\n",
    "Doom of Valyria,\n",
    "Golden Company,\n",
    "Redgrass Field,\n",
    "Ragged Standard,\n",
    "Second Sons,\n",
    "Maiden's Men,\n",
    "House Blackfyre,\n",
    "Disputed Lands,\n",
    "Lys,\n",
    "Tyrosh,\n",
    "War of the Ninepenny Kings,\n",
    "Andalos\"\"\"\n",
    "\n",
    "m = m.split(\",\")\n",
    "res2 = [el.replace(\"\\n\", \"\") for el in m]\n",
    "cap3_visitati = list(set(res2) & set(posti_ok))\n",
    "\n",
    "cap3_visitati"
   ]
  },
  {
   "cell_type": "code",
   "execution_count": 238,
   "metadata": {
    "colab": {
     "base_uri": "https://localhost:8080/",
     "height": 630
    },
    "id": "TCKwEFetDrnF",
    "outputId": "5d10d997-9319-483e-c21a-e0b695d15af7"
   },
   "outputs": [
    {
     "data": {
      "text/plain": [
       "[]"
      ]
     },
     "execution_count": 238,
     "metadata": {},
     "output_type": "execute_result"
    },
    {
     "data": {
      "image/png": "[encoded data removed]",
      "text/plain": [
       "<Figure size 720x720 with 1 Axes>"
      ]
     },
     "metadata": {
      "needs_background": "light"
     },
     "output_type": "display_data"
    }
   ],
   "source": [
    "fig = plt.figure(figsize=(10,10))\n",
    "ax = plt.axes()\n",
    "\n",
    "continents.plot(ax = ax, color=\"#b3ffff\")\n",
    "islands.plot(ax=ax, color=\"#00b3b3\")\n",
    "lakes.plot(ax=ax, color=\"white\")\n",
    "\n",
    "l = locations.where(locations[\"name\"].isin(cap3_visitati)).dropna()\n",
    "l.plot(ax=ax, cmap=\"Reds\", edgecolor=\"black\", marker=\"*\", markersize=150, legend= True)\n",
    "\n",
    "rivers.plot(ax=ax, color=\"white\", label=\"rivers\")\n",
    "\n",
    "#making a legend in the plot\n",
    "for i in range(len(l)):\n",
    "    plt.text(x=l.iloc[i][\"geometry\"].x, y=l.iloc[i][\"geometry\"].y, s=cap3_visitati[i], fontsize = 10)\n",
    "\n",
    "ax.set_title(str(Book_name)+\" - \"+str(Chap_name)+\" - \"+str(Chap_num), fontsize=20)\n",
    "ax.plot()"
   ]
  }
 ],
 "metadata": {
  "colab": {
   "collapsed_sections": [],
   "provenance": []
  },
  "kernelspec": {
   "display_name": "Python 3 (ipykernel)",
   "language": "python",
   "name": "python3"
  },
  "language_info": {
   "codemirror_mode": {
    "name": "ipython",
    "version": 3
   },
   "file_extension": ".py",
   "mimetype": "text/x-python",
   "name": "python",
   "nbconvert_exporter": "python",
   "pygments_lexer": "ipython3",
   "version": "3.9.7"
  }
 },
 "nbformat": 4,
 "nbformat_minor": 4
}
